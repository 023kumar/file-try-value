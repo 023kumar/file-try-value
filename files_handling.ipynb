{
  "nbformat": 4,
  "nbformat_minor": 0,
  "metadata": {
    "colab": {
      "provenance": []
    },
    "kernelspec": {
      "name": "python3",
      "display_name": "Python 3"
    },
    "language_info": {
      "name": "python"
    }
  },
  "cells": [
    {
      "cell_type": "markdown",
      "source": [
        "1. Difference between interpreted and compiled languages\n",
        "\n",
        "\n",
        "\n",
        "Interpreted languages: Code is executed line-by-line by an interpreter (e.g., Python, JavaScript). Slower but more flexible for debugging.\n",
        "\n",
        "Compiled languages: Code is first converted into machine code by a compiler before execution (e.g., C, C++). Faster execution but slower to test changes."
      ],
      "metadata": {
        "id": "DuUZj1OGY3Iv"
      }
    },
    {
      "cell_type": "markdown",
      "source": [
        "2. Exception handling in Python\n",
        "\n",
        "\n",
        "A mechanism to handle runtime errors gracefully without stopping the program abruptly. It uses try, except, else, and finally.\n",
        "\n",
        "> Add blockquote\n",
        "\n"
      ],
      "metadata": {
        "id": "ViKXx8ssYsMo"
      }
    },
    {
      "cell_type": "markdown",
      "source": [
        "3. Purpose of the finally block\n",
        "\n",
        "\n",
        "The finally block always executes (whether an exception occurred or not) — often used for cleanup actions like closing files or releasing resources."
      ],
      "metadata": {
        "id": "Ec__Yxu1Y-2V"
      }
    },
    {
      "cell_type": "markdown",
      "source": [
        "4. Logging in Python\n",
        "\n",
        "\n",
        "Logging is used to record messages (info, warnings, errors) from a program for debugging, monitoring, or auditing purposes."
      ],
      "metadata": {
        "id": "UMJUhjI5Yvwd"
      }
    },
    {
      "cell_type": "markdown",
      "source": [
        "5. Significance of the __del__ method\n",
        "\n",
        "\n",
        "__del__ is a destructor method in Python, called automatically when an object is about to be destroyed — used for cleanup tasks before memory is freed."
      ],
      "metadata": {
        "id": "Y3L4ju09Yxq7"
      }
    },
    {
      "cell_type": "markdown",
      "source": [
        "6. Difference between import and from ... import\n",
        "\n",
        "\n",
        "import module → Imports the entire module. You use it as module.function().\n",
        "\n",
        "from module import function → Imports specific items directly, so you can call them without the module name."
      ],
      "metadata": {
        "id": "-fqsT33gYqsi"
      }
    },
    {
      "cell_type": "markdown",
      "source": [
        "7. Handling multiple exceptions\n",
        "\n",
        "\n",
        "You can handle multiple exceptions in one block:"
      ],
      "metadata": {
        "id": "bcF3eOCOZRqK"
      }
    },
    {
      "cell_type": "code",
      "source": [
        "try:\n",
        "    ...\n",
        "except (TypeError, ValueError) as e:\n",
        "    print(e)\n"
      ],
      "metadata": {
        "id": "gKHXPR6GZW17"
      },
      "execution_count": 1,
      "outputs": []
    },
    {
      "cell_type": "markdown",
      "source": [
        "8. Purpose of with statement for file handling\n",
        "\n",
        "\n",
        "The with statement automatically closes the file after use, even if an error occurs."
      ],
      "metadata": {
        "id": "ti2hzBxPZRsM"
      }
    },
    {
      "cell_type": "code",
      "source": [
        "with open(\"file.txt\") as f:\n",
        "    data = f.read()\n"
      ],
      "metadata": {
        "id": "uPdRNi8cZf-e"
      },
      "execution_count": null,
      "outputs": []
    },
    {
      "cell_type": "markdown",
      "source": [
        "9. Multithreading vs Multiprocessing\n",
        "\n",
        "\n",
        "Multithreading → Multiple threads share the same memory space. Good for I/O-bound tasks.\n",
        "\n",
        "Multiprocessing → Multiple processes, each with its own memory. Good for CPU-bound tasks."
      ],
      "metadata": {
        "id": "5HOKxPhiZRv5"
      }
    },
    {
      "cell_type": "markdown",
      "source": [
        "10. Advantages of logging\n",
        "\n",
        "\n",
        "Tracks program flow\n",
        "\n",
        "Helps debug issues\n",
        "\n",
        "Saves logs for future analysis\n",
        "\n",
        "Can categorize messages by severity levels"
      ],
      "metadata": {
        "id": "HzRI-kjJZq8T"
      }
    },
    {
      "cell_type": "markdown",
      "source": [
        "11. Memory management in Python\n",
        "\n",
        "\n",
        "Python manages memory automatically using a private heap and garbage collection to free unused memory."
      ],
      "metadata": {
        "id": "sEsM4O5XZusv"
      }
    },
    {
      "cell_type": "markdown",
      "source": [
        "12. Basic steps in exception handling\n",
        "\n",
        "\n",
        "Write risky code inside try.\n",
        "\n",
        "Catch errors in except.\n",
        "\n",
        "Optionally use else for code that runs if no error occurs.\n",
        "\n",
        "Use finally for cleanup."
      ],
      "metadata": {
        "id": "rIyf8Hv_ZzU_"
      }
    },
    {
      "cell_type": "markdown",
      "source": [
        "13. Why memory management is important\n",
        "\n",
        "\n",
        "Efficient memory use prevents slowdowns, crashes, and unnecessary consumption of system resources."
      ],
      "metadata": {
        "id": "nETDMf0CZ2yN"
      }
    },
    {
      "cell_type": "markdown",
      "source": [
        "14. Role of try and except\n",
        "\n",
        "\n",
        "try: Wraps code that may cause an error.\n",
        "\n",
        "except: Catches and handles the error."
      ],
      "metadata": {
        "id": "KoiJNxXGZ73q"
      }
    },
    {
      "cell_type": "markdown",
      "source": [
        "15. Python’s garbage collection\n",
        "\n",
        "\n",
        "Python uses reference counting and a cyclic garbage collector to automatically free memory of objects no longer in use."
      ],
      "metadata": {
        "id": "6EOGQrUIaATq"
      }
    },
    {
      "cell_type": "markdown",
      "source": [
        "16. Purpose of the else block in exception handling\n",
        "\n",
        "\n",
        "Runs only if no exception occurs in the try block."
      ],
      "metadata": {
        "id": "WDHhH03kaEVh"
      }
    },
    {
      "cell_type": "markdown",
      "source": [
        "17. Common logging levels\n",
        "\n",
        "\n",
        "DEBUG\n",
        "\n",
        "INFO\n",
        "\n",
        "WARNING\n",
        "\n",
        "ERROR\n",
        "\n",
        "CRITICAL"
      ],
      "metadata": {
        "id": "TpjFDZJyaH1d"
      }
    },
    {
      "cell_type": "markdown",
      "source": [
        "18. Difference between os.fork() and multiprocessing\n",
        "\n",
        "\n",
        "os.fork() → Creates a child process by duplicating the current process (Unix only).\n",
        "\n",
        "multiprocessing → Cross-platform library for spawning new processes."
      ],
      "metadata": {
        "id": "FshePwwJaLw1"
      }
    },
    {
      "cell_type": "markdown",
      "source": [
        "19. Importance of closing a file\n",
        "\n",
        "\n",
        "Releases system resources, ensures data is saved, and prevents file corruption"
      ],
      "metadata": {
        "id": "T5C2qphOaRQh"
      }
    },
    {
      "cell_type": "markdown",
      "source": [
        "20. Difference between file.read() and file.readline()\n",
        "\n",
        "\n",
        "read() → Reads the entire file or a specified number of characters.\n",
        "\n",
        "readline() → Reads one line at a time."
      ],
      "metadata": {
        "id": "Oh905eI0aWV9"
      }
    },
    {
      "cell_type": "markdown",
      "source": [
        "21. Logging module usage\n",
        "\n",
        "\n",
        "Provides functions to configure and generate logs at different levels for debugging or monitoring."
      ],
      "metadata": {
        "id": "M8RhCBNlaaHF"
      }
    },
    {
      "cell_type": "markdown",
      "source": [
        "22. OS module in file handling\n",
        "\n",
        "\n",
        "os helps interact with the operating system — creating, deleting, renaming files, and navigating directories."
      ],
      "metadata": {
        "id": "2FooJcuOafX0"
      }
    },
    {
      "cell_type": "markdown",
      "source": [
        "23. Challenges of memory management in Python\n",
        "\n",
        "\n",
        "Circular references\n",
        "\n",
        "Memory leaks due to global variables\n",
        "\n",
        "Large data structures consuming memory"
      ],
      "metadata": {
        "id": "wL7F_qQ0alzg"
      }
    },
    {
      "cell_type": "markdown",
      "source": [
        "24. Raising an exception manually"
      ],
      "metadata": {
        "id": "vt6JE7pfanfr"
      }
    },
    {
      "cell_type": "code",
      "source": [
        "raise ValueError(\"Invalid input\")\n"
      ],
      "metadata": {
        "id": "rLrftOXEaqSx"
      },
      "execution_count": null,
      "outputs": []
    },
    {
      "cell_type": "markdown",
      "source": [
        "25. Importance of multithreading in some applications\n",
        "\n",
        "\n",
        "Multithreading improves responsiveness and efficiency in I/O-bound tasks (e.g., web servers, GUI apps) by allowing concurrent operations."
      ],
      "metadata": {
        "id": "NFXVJRnjavED"
      }
    },
    {
      "cell_type": "markdown",
      "source": [
        "1. Open a file for writing and write a string"
      ],
      "metadata": {
        "id": "R-Ce1TqBa0as"
      }
    },
    {
      "cell_type": "code",
      "source": [
        "\n",
        "with open(\"example.txt\", \"w\") as f:\n",
        "    f.write(\"Hello, Python file handling!\")\n",
        "print(\"Data written successfully.\")\n"
      ],
      "metadata": {
        "colab": {
          "base_uri": "https://localhost:8080/"
        },
        "id": "cPaN5iqQbPeP",
        "outputId": "d2f772a8-ce80-43f0-8187-e0c0eb34f13d"
      },
      "execution_count": 5,
      "outputs": [
        {
          "output_type": "stream",
          "name": "stdout",
          "text": [
            "Data written successfully.\n"
          ]
        }
      ]
    },
    {
      "cell_type": "markdown",
      "source": [
        "2. Read contents of a file and print each line"
      ],
      "metadata": {
        "id": "sn-fm5zpbT9H"
      }
    },
    {
      "cell_type": "code",
      "source": [
        "with open(\"example.txt\", \"r\") as f:\n",
        "    for line in f:\n",
        "        print(line.strip())\n"
      ],
      "metadata": {
        "colab": {
          "base_uri": "https://localhost:8080/"
        },
        "id": "pHydaPgybXDr",
        "outputId": "49f1baa8-7a77-4492-a3e9-a1e1d8cca058"
      },
      "execution_count": 6,
      "outputs": [
        {
          "output_type": "stream",
          "name": "stdout",
          "text": [
            "Hello, Python file handling!\n"
          ]
        }
      ]
    },
    {
      "cell_type": "markdown",
      "source": [
        "3. Handle file-not-found while reading"
      ],
      "metadata": {
        "id": "lbvEnBdVbajE"
      }
    },
    {
      "cell_type": "code",
      "source": [
        "try:\n",
        "    with open(\"not_exist.txt\", \"r\") as f:\n",
        "        print(f.read())\n",
        "except FileNotFoundError:\n",
        "    print(\"File does not exist!\")\n"
      ],
      "metadata": {
        "colab": {
          "base_uri": "https://localhost:8080/"
        },
        "id": "CuSCEStsbeJb",
        "outputId": "7507e83e-b506-4733-85ce-2693609bbcd5"
      },
      "execution_count": 7,
      "outputs": [
        {
          "output_type": "stream",
          "name": "stdout",
          "text": [
            "File does not exist!\n"
          ]
        }
      ]
    },
    {
      "cell_type": "markdown",
      "source": [
        "4. Copy contents from one file to another"
      ],
      "metadata": {
        "id": "NYFEWBA1bgul"
      }
    },
    {
      "cell_type": "code",
      "source": [
        "with open(\"source.txt\", \"r\") as src, open(\"destination.txt\", \"w\") as dest:\n",
        "    for line in src:\n",
        "        dest.write(line)\n",
        "print(\"File copied successfully.\")\n"
      ],
      "metadata": {
        "id": "fLcO2wcsbkU-"
      },
      "execution_count": null,
      "outputs": []
    },
    {
      "cell_type": "markdown",
      "source": [
        "5. Catch and handle division by zero"
      ],
      "metadata": {
        "id": "rdZv28a3bqpa"
      }
    },
    {
      "cell_type": "code",
      "source": [
        "try:\n",
        "    result = 10 / 0\n",
        "except ZeroDivisionError:\n",
        "    print(\"Error: Division by zero!\")\n"
      ],
      "metadata": {
        "colab": {
          "base_uri": "https://localhost:8080/"
        },
        "id": "jJ8u4a5EbtkO",
        "outputId": "f5e14129-c72d-4920-9d99-9d8dbc7e8f37"
      },
      "execution_count": 9,
      "outputs": [
        {
          "output_type": "stream",
          "name": "stdout",
          "text": [
            "Error: Division by zero!\n"
          ]
        }
      ]
    },
    {
      "cell_type": "markdown",
      "source": [
        "6. Log error message when division by zero occurs"
      ],
      "metadata": {
        "id": "etu6nCz7bwcQ"
      }
    },
    {
      "cell_type": "code",
      "source": [
        "import logging\n",
        "logging.basicConfig(filename=\"error.log\", level=logging.ERROR)\n",
        "\n",
        "try:\n",
        "    result = 10 / 0\n",
        "except ZeroDivisionError as e:\n",
        "    logging.error(\"Division by zero error: %s\", e)\n"
      ],
      "metadata": {
        "colab": {
          "base_uri": "https://localhost:8080/"
        },
        "id": "RMpQSnNFby6F",
        "outputId": "e53e485f-a84a-46b8-ef76-6a42f4de3d2e"
      },
      "execution_count": 10,
      "outputs": [
        {
          "output_type": "stream",
          "name": "stderr",
          "text": [
            "ERROR:root:Division by zero error: division by zero\n"
          ]
        }
      ]
    },
    {
      "cell_type": "markdown",
      "source": [
        "7. Log at INFO, ERROR, WARNING levels"
      ],
      "metadata": {
        "id": "cOjQ1I_qb1Yq"
      }
    },
    {
      "cell_type": "code",
      "source": [
        "import logging\n",
        "logging.basicConfig(filename=\"app.log\", level=logging.DEBUG)\n",
        "\n",
        "logging.info(\"This is an info message.\")\n",
        "logging.warning(\"This is a warning message.\")\n",
        "logging.error(\"This is an error message.\")\n"
      ],
      "metadata": {
        "id": "2VWLK-Seb4Xu"
      },
      "execution_count": null,
      "outputs": []
    },
    {
      "cell_type": "markdown",
      "source": [
        "8. Handle file opening error"
      ],
      "metadata": {
        "id": "6a-DMAYkb7V0"
      }
    },
    {
      "cell_type": "code",
      "source": [
        "try:\n",
        "    with open(\"missing.txt\", \"r\") as f:\n",
        "        data = f.read()\n",
        "except FileNotFoundError:\n",
        "    print(\"File not found!\")\n"
      ],
      "metadata": {
        "colab": {
          "base_uri": "https://localhost:8080/"
        },
        "id": "UoS6hhGPb-E7",
        "outputId": "8acf3210-3e6a-4530-aaed-faccd01ec40f"
      },
      "execution_count": 11,
      "outputs": [
        {
          "output_type": "stream",
          "name": "stdout",
          "text": [
            "File not found!\n"
          ]
        }
      ]
    },
    {
      "cell_type": "markdown",
      "source": [
        "9. Read file line-by-line into a list"
      ],
      "metadata": {
        "id": "a8naO_-wcA55"
      }
    },
    {
      "cell_type": "code",
      "source": [
        "with open(\"example.txt\", \"r\") as f:\n",
        "    lines = [line.strip() for line in f]\n",
        "print(lines)\n"
      ],
      "metadata": {
        "colab": {
          "base_uri": "https://localhost:8080/"
        },
        "id": "S6HvJ92EcDmU",
        "outputId": "cf6d1fff-c9ea-4bea-dcfb-b33743ae4c28"
      },
      "execution_count": 12,
      "outputs": [
        {
          "output_type": "stream",
          "name": "stdout",
          "text": [
            "['Hello, Python file handling!']\n"
          ]
        }
      ]
    },
    {
      "cell_type": "markdown",
      "source": [
        "10. Append data to an existing file"
      ],
      "metadata": {
        "id": "lzOe0qhhcGTB"
      }
    },
    {
      "cell_type": "code",
      "source": [
        "with open(\"example.txt\", \"a\") as f:\n",
        "    f.write(\"\\nAppending new line.\")\n"
      ],
      "metadata": {
        "id": "1xUVFdBPcJBV"
      },
      "execution_count": 13,
      "outputs": []
    },
    {
      "cell_type": "markdown",
      "source": [
        "11. Handle missing dictionary key"
      ],
      "metadata": {
        "id": "gkpkU5fycMTd"
      }
    },
    {
      "cell_type": "code",
      "source": [
        "data = {\"name\": \"Alice\"}\n",
        "\n",
        "try:\n",
        "    print(data[\"age\"])\n",
        "except KeyError:\n",
        "    print(\"Key not found in dictionary!\")\n"
      ],
      "metadata": {
        "colab": {
          "base_uri": "https://localhost:8080/"
        },
        "id": "zHpI4VIfcO4k",
        "outputId": "c394618d-bf15-4560-df28-530837f4c00f"
      },
      "execution_count": 14,
      "outputs": [
        {
          "output_type": "stream",
          "name": "stdout",
          "text": [
            "Key not found in dictionary!\n"
          ]
        }
      ]
    },
    {
      "cell_type": "markdown",
      "source": [
        "12. Multiple except blocks"
      ],
      "metadata": {
        "id": "IU3bHQp1cRiw"
      }
    },
    {
      "cell_type": "code",
      "source": [
        "try:\n",
        "    num = int(\"abc\")  # ValueError\n",
        "    result = 10 / 0   # ZeroDivisionError\n",
        "except ValueError:\n",
        "    print(\"Invalid value!\")\n",
        "except ZeroDivisionError:\n",
        "    print(\"Division by zero!\")\n"
      ],
      "metadata": {
        "colab": {
          "base_uri": "https://localhost:8080/"
        },
        "id": "pkEpwiINcUEz",
        "outputId": "9990ac60-5a4a-4e7f-b9a9-1ac80f25baa8"
      },
      "execution_count": 15,
      "outputs": [
        {
          "output_type": "stream",
          "name": "stdout",
          "text": [
            "Invalid value!\n"
          ]
        }
      ]
    },
    {
      "cell_type": "markdown",
      "source": [
        "13. Check if file exists before reading"
      ],
      "metadata": {
        "id": "mLURPw5jcWdi"
      }
    },
    {
      "cell_type": "code",
      "source": [
        "import os\n",
        "\n",
        "if os.path.exists(\"example.txt\"):\n",
        "    with open(\"example.txt\", \"r\") as f:\n",
        "        print(f.read())\n",
        "else:\n",
        "    print(\"File not found!\")\n"
      ],
      "metadata": {
        "colab": {
          "base_uri": "https://localhost:8080/"
        },
        "id": "ZOP9i4AmcZG4",
        "outputId": "068f8bf7-35d7-4f5e-c7e0-999e17db50e8"
      },
      "execution_count": 16,
      "outputs": [
        {
          "output_type": "stream",
          "name": "stdout",
          "text": [
            "Hello, Python file handling!\n",
            "Appending new line.\n"
          ]
        }
      ]
    },
    {
      "cell_type": "markdown",
      "source": [
        "14. Log both info and error"
      ],
      "metadata": {
        "id": "S9bg1Diacb6I"
      }
    },
    {
      "cell_type": "code",
      "source": [
        "import logging\n",
        "logging.basicConfig(filename=\"logfile.log\", level=logging.DEBUG)\n",
        "\n",
        "logging.info(\"Program started.\")\n",
        "try:\n",
        "    10 / 0\n",
        "except ZeroDivisionError as e:\n",
        "    logging.error(\"Error occurred: %s\", e)\n"
      ],
      "metadata": {
        "colab": {
          "base_uri": "https://localhost:8080/"
        },
        "id": "srkn25mXcegk",
        "outputId": "b1988bbe-2dbc-493e-963b-7d6529c9ea99"
      },
      "execution_count": 17,
      "outputs": [
        {
          "output_type": "stream",
          "name": "stderr",
          "text": [
            "ERROR:root:Error occurred: division by zero\n"
          ]
        }
      ]
    },
    {
      "cell_type": "markdown",
      "source": [
        "15. Print file content and handle empty file"
      ],
      "metadata": {
        "id": "cwKATk9schYU"
      }
    },
    {
      "cell_type": "code",
      "source": [
        "import os\n",
        "\n",
        "filename = \"example.txt\"\n",
        "if os.path.getsize(filename) == 0:\n",
        "    print(\"File is empty.\")\n",
        "else:\n",
        "    with open(filename, \"r\") as f:\n",
        "        print(f.read())\n"
      ],
      "metadata": {
        "colab": {
          "base_uri": "https://localhost:8080/"
        },
        "id": "ggVBPNNScj5W",
        "outputId": "81eccaa1-996e-4e58-859c-e1c58b8b9770"
      },
      "execution_count": 18,
      "outputs": [
        {
          "output_type": "stream",
          "name": "stdout",
          "text": [
            "Hello, Python file handling!\n",
            "Appending new line.\n"
          ]
        }
      ]
    },
    {
      "cell_type": "markdown",
      "source": [
        "16. Memory profiling example"
      ],
      "metadata": {
        "id": "FV9BF3DhcoyK"
      }
    },
    {
      "cell_type": "code",
      "source": [
        "from memory_profiler import profile\n",
        "\n",
        "@profile\n",
        "def my_func():\n",
        "    nums = [i for i in range(100000)]\n",
        "    return sum(nums)\n",
        "\n",
        "if __name__ == \"__main__\":\n",
        "    my_func()\n"
      ],
      "metadata": {
        "id": "2WmrXLF0cpv0"
      },
      "execution_count": null,
      "outputs": []
    },
    {
      "cell_type": "markdown",
      "source": [
        "17. Write list of numbers to file"
      ],
      "metadata": {
        "id": "3j36iPptctrq"
      }
    },
    {
      "cell_type": "code",
      "source": [
        "numbers = [1, 2, 3, 4, 5]\n",
        "with open(\"numbers.txt\", \"w\") as f:\n",
        "    for num in numbers:\n",
        "        f.write(str(num) + \"\\n\")\n"
      ],
      "metadata": {
        "id": "MR82Mqmkc0Ht"
      },
      "execution_count": 20,
      "outputs": []
    },
    {
      "cell_type": "markdown",
      "source": [
        "18. Log file with rotation after 1MB"
      ],
      "metadata": {
        "id": "md4H5CH-c2aj"
      }
    },
    {
      "cell_type": "code",
      "source": [
        "import logging\n",
        "from logging.handlers import RotatingFileHandler\n",
        "\n",
        "handler = RotatingFileHandler(\"rotating.log\", maxBytes=1_000_000, backupCount=3)\n",
        "logging.basicConfig(handlers=[handler], level=logging.INFO)\n",
        "\n",
        "logging.info(\"This is a rotating log example.\")\n"
      ],
      "metadata": {
        "id": "9E_dtiH-c48K"
      },
      "execution_count": 21,
      "outputs": []
    },
    {
      "cell_type": "markdown",
      "source": [
        "19. Handle both IndexError & KeyError"
      ],
      "metadata": {
        "id": "KnjtomNHc7sq"
      }
    },
    {
      "cell_type": "code",
      "source": [
        "try:\n",
        "    my_list = [1, 2]\n",
        "    print(my_list[5])\n",
        "    my_dict = {}\n",
        "    print(my_dict[\"key\"])\n",
        "except IndexError:\n",
        "    print(\"List index out of range.\")\n",
        "except KeyError:\n",
        "    print(\"Key not found.\")\n"
      ],
      "metadata": {
        "colab": {
          "base_uri": "https://localhost:8080/"
        },
        "id": "0Lf4x5jwc-pe",
        "outputId": "e1fd9e5a-9753-4157-c7c8-613249f17f14"
      },
      "execution_count": 22,
      "outputs": [
        {
          "output_type": "stream",
          "name": "stdout",
          "text": [
            "List index out of range.\n"
          ]
        }
      ]
    },
    {
      "cell_type": "markdown",
      "source": [
        "20. Read file using context manager"
      ],
      "metadata": {
        "id": "Fab6NtgSdDdU"
      }
    },
    {
      "cell_type": "code",
      "source": [
        "with open(\"example.txt\", \"r\") as f:\n",
        "    print(f.read())\n"
      ],
      "metadata": {
        "colab": {
          "base_uri": "https://localhost:8080/"
        },
        "id": "7febU5OedGWP",
        "outputId": "6b675b7a-e58a-439a-91cb-8747f0325d29"
      },
      "execution_count": 23,
      "outputs": [
        {
          "output_type": "stream",
          "name": "stdout",
          "text": [
            "Hello, Python file handling!\n",
            "Appending new line.\n"
          ]
        }
      ]
    },
    {
      "cell_type": "markdown",
      "source": [
        "21. Count occurrences of a word"
      ],
      "metadata": {
        "id": "om0NHAqGdJKS"
      }
    },
    {
      "cell_type": "code",
      "source": [
        "word_to_find = \"Python\"\n",
        "count = 0\n",
        "with open(\"example.txt\", \"r\") as f:\n",
        "    for line in f:\n",
        "        count += line.count(word_to_find)\n",
        "print(f\"The word '{word_to_find}' occurs {count} times.\")\n"
      ],
      "metadata": {
        "colab": {
          "base_uri": "https://localhost:8080/"
        },
        "id": "6yI7C6-AdMCG",
        "outputId": "2290dd18-2813-4aba-9159-5fecb94f774f"
      },
      "execution_count": 24,
      "outputs": [
        {
          "output_type": "stream",
          "name": "stdout",
          "text": [
            "The word 'Python' occurs 1 times.\n"
          ]
        }
      ]
    },
    {
      "cell_type": "markdown",
      "source": [
        "22. Check if file is empty"
      ],
      "metadata": {
        "id": "m68i7mABdUZI"
      }
    },
    {
      "cell_type": "code",
      "source": [
        "import os\n",
        "if os.path.getsize(\"example.txt\") == 0:\n",
        "    print(\"File is empty.\")\n",
        "else:\n",
        "    print(\"File has content.\")\n"
      ],
      "metadata": {
        "colab": {
          "base_uri": "https://localhost:8080/"
        },
        "id": "SQGcJtPrdVPS",
        "outputId": "70666678-47e4-4900-ff6e-b4d0e6a5a2d6"
      },
      "execution_count": 25,
      "outputs": [
        {
          "output_type": "stream",
          "name": "stdout",
          "text": [
            "File has content.\n"
          ]
        }
      ]
    },
    {
      "cell_type": "markdown",
      "source": [
        "23. Log error during file handling"
      ],
      "metadata": {
        "id": "SsscbZ0mdYZi"
      }
    },
    {
      "cell_type": "code",
      "source": [
        "import logging\n",
        "logging.basicConfig(filename=\"file_error.log\", level=logging.ERROR)\n",
        "\n",
        "try:\n",
        "    with open(\"nonexistent.txt\", \"r\") as f:\n",
        "        print(f.read())\n",
        "except FileNotFoundError as e:\n",
        "    logging.error(\"File handling error: %s\", e)\n"
      ],
      "metadata": {
        "colab": {
          "base_uri": "https://localhost:8080/"
        },
        "id": "iTItahTddbYR",
        "outputId": "a98cb3a6-f5df-4e35-956d-ec9309e1847a"
      },
      "execution_count": 26,
      "outputs": [
        {
          "output_type": "stream",
          "name": "stderr",
          "text": [
            "ERROR:root:File handling error: [Errno 2] No such file or directory: 'nonexistent.txt'\n"
          ]
        }
      ]
    }
  ]
}